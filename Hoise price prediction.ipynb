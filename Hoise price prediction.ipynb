{
  "nbformat": 4,
  "nbformat_minor": 0,
  "metadata": {
    "colab": {
      "provenance": [],
      "toc_visible": true
    },
    "kernelspec": {
      "name": "python3",
      "display_name": "Python 3"
    },
    "language_info": {
      "name": "python"
    }
  },
  "cells": [
    {
      "cell_type": "code",
      "execution_count": null,
      "metadata": {
        "id": "6u0z0L_gQqbq"
      },
      "outputs": [],
      "source": [
        "import pandas as pd\n",
        "import matplotlib.pyplot as plt\n",
        "import seaborn as sns\n",
        "import numpy as np\n"
      ]
    },
    {
      "cell_type": "markdown",
      "source": [
        "## Reading the dataset"
      ],
      "metadata": {
        "id": "NAai6nxdTRe4"
      }
    },
    {
      "cell_type": "code",
      "source": [
        "import csv\n",
        "df = pd.read_csv(\"/content/Property_with_Feature_Engineering.csv\")"
      ],
      "metadata": {
        "id": "fm2EhudIRXxw"
      },
      "execution_count": null,
      "outputs": []
    },
    {
      "cell_type": "markdown",
      "source": [
        "## About the Data"
      ],
      "metadata": {
        "id": "f1p7n6qsTUfn"
      }
    },
    {
      "cell_type": "code",
      "source": [
        "df.sample(5)"
      ],
      "metadata": {
        "colab": {
          "base_uri": "https://localhost:8080/",
          "height": 542
        },
        "id": "bLCjR24vRcyv",
        "outputId": "2934eb01-d16b-4588-feab-fe7c38e00c35"
      },
      "execution_count": null,
      "outputs": [
        {
          "output_type": "execute_result",
          "data": {
            "text/plain": [
              "       property_id  location_id  \\\n",
              "23111     13069309         1444   \n",
              "39784     14603745         6651   \n",
              "37931     14510824         6839   \n",
              "41039     14719970         9074   \n",
              "77702     16323183         8469   \n",
              "\n",
              "                                                page_url property_type  \\\n",
              "23111  https://www.zameen.com/Property/dha_defence_dh...         House   \n",
              "39784  https://www.zameen.com/Property/malir_tariq_bi...          Flat   \n",
              "37931  https://www.zameen.com/Property/gulistan_e_jau...          Flat   \n",
              "41039  https://www.zameen.com/Property/scheme_33_gwal...         House   \n",
              "77702  https://www.zameen.com/Property/raiwind_road_i...          Flat   \n",
              "\n",
              "            price  price_bin           location     city province_name  \\\n",
              "23111  42500000.0  Very High        DHA Defence   Lahore        Punjab   \n",
              "39784   6500000.0     Medium              Malir  Karachi         Sindh   \n",
              "37931  10000000.0       High  Gulistan-e-Jauhar  Karachi         Sindh   \n",
              "41039  22000000.0       High          Scheme 33  Karachi         Sindh   \n",
              "77702   5500000.0     Medium       Raiwind Road   Lahore        Punjab   \n",
              "\n",
              "                                locality  ...  area_marla  area_sqft  \\\n",
              "23111        DHA Defence, Lahore, Punjab  ...        20.0    5445.02   \n",
              "39784              Malir, Karachi, Sindh  ...         4.0    1089.00   \n",
              "37931  Gulistan-e-Jauhar, Karachi, Sindh  ...         5.0    1361.25   \n",
              "41039          Scheme 33, Karachi, Sindh  ...         9.6    2613.61   \n",
              "77702       Raiwind Road, Lahore, Punjab  ...         5.0    1361.25   \n",
              "\n",
              "        purpose bedrooms  date_added    year month   day  \\\n",
              "23111  For Sale      5.0  06-10-2019  2019.0   6.0  10.0   \n",
              "39784  For Sale      0.0  02-17-2019  2019.0   2.0  17.0   \n",
              "37931  For Sale      4.0  02-17-2019  2019.0   2.0  17.0   \n",
              "41039  For Sale      0.0  03-10-2019  2019.0   3.0  10.0   \n",
              "77702  For Sale      2.0  06-02-2019  2019.0   6.0   2.0   \n",
              "\n",
              "                               agency              agent  \n",
              "23111  Destiny Real Estate & Builders         Shah Jahan  \n",
              "39784                             NaN                NaN  \n",
              "37931                             NaN                NaN  \n",
              "41039             Officers Associates    Nouman Ali Khan  \n",
              "77702                  AAS Properties  Muhammad Muddasar  \n",
              "\n",
              "[5 rows x 24 columns]"
            ],
            "text/html": [
              "\n",
              "  <div id=\"df-c1ee56a7-1180-465b-bd53-8aa6c0b07cf9\">\n",
              "    <div class=\"colab-df-container\">\n",
              "      <div>\n",
              "<style scoped>\n",
              "    .dataframe tbody tr th:only-of-type {\n",
              "        vertical-align: middle;\n",
              "    }\n",
              "\n",
              "    .dataframe tbody tr th {\n",
              "        vertical-align: top;\n",
              "    }\n",
              "\n",
              "    .dataframe thead th {\n",
              "        text-align: right;\n",
              "    }\n",
              "</style>\n",
              "<table border=\"1\" class=\"dataframe\">\n",
              "  <thead>\n",
              "    <tr style=\"text-align: right;\">\n",
              "      <th></th>\n",
              "      <th>property_id</th>\n",
              "      <th>location_id</th>\n",
              "      <th>page_url</th>\n",
              "      <th>property_type</th>\n",
              "      <th>price</th>\n",
              "      <th>price_bin</th>\n",
              "      <th>location</th>\n",
              "      <th>city</th>\n",
              "      <th>province_name</th>\n",
              "      <th>locality</th>\n",
              "      <th>...</th>\n",
              "      <th>area_marla</th>\n",
              "      <th>area_sqft</th>\n",
              "      <th>purpose</th>\n",
              "      <th>bedrooms</th>\n",
              "      <th>date_added</th>\n",
              "      <th>year</th>\n",
              "      <th>month</th>\n",
              "      <th>day</th>\n",
              "      <th>agency</th>\n",
              "      <th>agent</th>\n",
              "    </tr>\n",
              "  </thead>\n",
              "  <tbody>\n",
              "    <tr>\n",
              "      <th>23111</th>\n",
              "      <td>13069309</td>\n",
              "      <td>1444</td>\n",
              "      <td>https://www.zameen.com/Property/dha_defence_dh...</td>\n",
              "      <td>House</td>\n",
              "      <td>42500000.0</td>\n",
              "      <td>Very High</td>\n",
              "      <td>DHA Defence</td>\n",
              "      <td>Lahore</td>\n",
              "      <td>Punjab</td>\n",
              "      <td>DHA Defence, Lahore, Punjab</td>\n",
              "      <td>...</td>\n",
              "      <td>20.0</td>\n",
              "      <td>5445.02</td>\n",
              "      <td>For Sale</td>\n",
              "      <td>5.0</td>\n",
              "      <td>06-10-2019</td>\n",
              "      <td>2019.0</td>\n",
              "      <td>6.0</td>\n",
              "      <td>10.0</td>\n",
              "      <td>Destiny Real Estate &amp; Builders</td>\n",
              "      <td>Shah Jahan</td>\n",
              "    </tr>\n",
              "    <tr>\n",
              "      <th>39784</th>\n",
              "      <td>14603745</td>\n",
              "      <td>6651</td>\n",
              "      <td>https://www.zameen.com/Property/malir_tariq_bi...</td>\n",
              "      <td>Flat</td>\n",
              "      <td>6500000.0</td>\n",
              "      <td>Medium</td>\n",
              "      <td>Malir</td>\n",
              "      <td>Karachi</td>\n",
              "      <td>Sindh</td>\n",
              "      <td>Malir, Karachi, Sindh</td>\n",
              "      <td>...</td>\n",
              "      <td>4.0</td>\n",
              "      <td>1089.00</td>\n",
              "      <td>For Sale</td>\n",
              "      <td>0.0</td>\n",
              "      <td>02-17-2019</td>\n",
              "      <td>2019.0</td>\n",
              "      <td>2.0</td>\n",
              "      <td>17.0</td>\n",
              "      <td>NaN</td>\n",
              "      <td>NaN</td>\n",
              "    </tr>\n",
              "    <tr>\n",
              "      <th>37931</th>\n",
              "      <td>14510824</td>\n",
              "      <td>6839</td>\n",
              "      <td>https://www.zameen.com/Property/gulistan_e_jau...</td>\n",
              "      <td>Flat</td>\n",
              "      <td>10000000.0</td>\n",
              "      <td>High</td>\n",
              "      <td>Gulistan-e-Jauhar</td>\n",
              "      <td>Karachi</td>\n",
              "      <td>Sindh</td>\n",
              "      <td>Gulistan-e-Jauhar, Karachi, Sindh</td>\n",
              "      <td>...</td>\n",
              "      <td>5.0</td>\n",
              "      <td>1361.25</td>\n",
              "      <td>For Sale</td>\n",
              "      <td>4.0</td>\n",
              "      <td>02-17-2019</td>\n",
              "      <td>2019.0</td>\n",
              "      <td>2.0</td>\n",
              "      <td>17.0</td>\n",
              "      <td>NaN</td>\n",
              "      <td>NaN</td>\n",
              "    </tr>\n",
              "    <tr>\n",
              "      <th>41039</th>\n",
              "      <td>14719970</td>\n",
              "      <td>9074</td>\n",
              "      <td>https://www.zameen.com/Property/scheme_33_gwal...</td>\n",
              "      <td>House</td>\n",
              "      <td>22000000.0</td>\n",
              "      <td>High</td>\n",
              "      <td>Scheme 33</td>\n",
              "      <td>Karachi</td>\n",
              "      <td>Sindh</td>\n",
              "      <td>Scheme 33, Karachi, Sindh</td>\n",
              "      <td>...</td>\n",
              "      <td>9.6</td>\n",
              "      <td>2613.61</td>\n",
              "      <td>For Sale</td>\n",
              "      <td>0.0</td>\n",
              "      <td>03-10-2019</td>\n",
              "      <td>2019.0</td>\n",
              "      <td>3.0</td>\n",
              "      <td>10.0</td>\n",
              "      <td>Officers Associates</td>\n",
              "      <td>Nouman Ali Khan</td>\n",
              "    </tr>\n",
              "    <tr>\n",
              "      <th>77702</th>\n",
              "      <td>16323183</td>\n",
              "      <td>8469</td>\n",
              "      <td>https://www.zameen.com/Property/raiwind_road_i...</td>\n",
              "      <td>Flat</td>\n",
              "      <td>5500000.0</td>\n",
              "      <td>Medium</td>\n",
              "      <td>Raiwind Road</td>\n",
              "      <td>Lahore</td>\n",
              "      <td>Punjab</td>\n",
              "      <td>Raiwind Road, Lahore, Punjab</td>\n",
              "      <td>...</td>\n",
              "      <td>5.0</td>\n",
              "      <td>1361.25</td>\n",
              "      <td>For Sale</td>\n",
              "      <td>2.0</td>\n",
              "      <td>06-02-2019</td>\n",
              "      <td>2019.0</td>\n",
              "      <td>6.0</td>\n",
              "      <td>2.0</td>\n",
              "      <td>AAS Properties</td>\n",
              "      <td>Muhammad Muddasar</td>\n",
              "    </tr>\n",
              "  </tbody>\n",
              "</table>\n",
              "<p>5 rows × 24 columns</p>\n",
              "</div>\n",
              "      <button class=\"colab-df-convert\" onclick=\"convertToInteractive('df-c1ee56a7-1180-465b-bd53-8aa6c0b07cf9')\"\n",
              "              title=\"Convert this dataframe to an interactive table.\"\n",
              "              style=\"display:none;\">\n",
              "        \n",
              "  <svg xmlns=\"http://www.w3.org/2000/svg\" height=\"24px\"viewBox=\"0 0 24 24\"\n",
              "       width=\"24px\">\n",
              "    <path d=\"M0 0h24v24H0V0z\" fill=\"none\"/>\n",
              "    <path d=\"M18.56 5.44l.94 2.06.94-2.06 2.06-.94-2.06-.94-.94-2.06-.94 2.06-2.06.94zm-11 1L8.5 8.5l.94-2.06 2.06-.94-2.06-.94L8.5 2.5l-.94 2.06-2.06.94zm10 10l.94 2.06.94-2.06 2.06-.94-2.06-.94-.94-2.06-.94 2.06-2.06.94z\"/><path d=\"M17.41 7.96l-1.37-1.37c-.4-.4-.92-.59-1.43-.59-.52 0-1.04.2-1.43.59L10.3 9.45l-7.72 7.72c-.78.78-.78 2.05 0 2.83L4 21.41c.39.39.9.59 1.41.59.51 0 1.02-.2 1.41-.59l7.78-7.78 2.81-2.81c.8-.78.8-2.07 0-2.86zM5.41 20L4 18.59l7.72-7.72 1.47 1.35L5.41 20z\"/>\n",
              "  </svg>\n",
              "      </button>\n",
              "      \n",
              "  <style>\n",
              "    .colab-df-container {\n",
              "      display:flex;\n",
              "      flex-wrap:wrap;\n",
              "      gap: 12px;\n",
              "    }\n",
              "\n",
              "    .colab-df-convert {\n",
              "      background-color: #E8F0FE;\n",
              "      border: none;\n",
              "      border-radius: 50%;\n",
              "      cursor: pointer;\n",
              "      display: none;\n",
              "      fill: #1967D2;\n",
              "      height: 32px;\n",
              "      padding: 0 0 0 0;\n",
              "      width: 32px;\n",
              "    }\n",
              "\n",
              "    .colab-df-convert:hover {\n",
              "      background-color: #E2EBFA;\n",
              "      box-shadow: 0px 1px 2px rgba(60, 64, 67, 0.3), 0px 1px 3px 1px rgba(60, 64, 67, 0.15);\n",
              "      fill: #174EA6;\n",
              "    }\n",
              "\n",
              "    [theme=dark] .colab-df-convert {\n",
              "      background-color: #3B4455;\n",
              "      fill: #D2E3FC;\n",
              "    }\n",
              "\n",
              "    [theme=dark] .colab-df-convert:hover {\n",
              "      background-color: #434B5C;\n",
              "      box-shadow: 0px 1px 3px 1px rgba(0, 0, 0, 0.15);\n",
              "      filter: drop-shadow(0px 1px 2px rgba(0, 0, 0, 0.3));\n",
              "      fill: #FFFFFF;\n",
              "    }\n",
              "  </style>\n",
              "\n",
              "      <script>\n",
              "        const buttonEl =\n",
              "          document.querySelector('#df-c1ee56a7-1180-465b-bd53-8aa6c0b07cf9 button.colab-df-convert');\n",
              "        buttonEl.style.display =\n",
              "          google.colab.kernel.accessAllowed ? 'block' : 'none';\n",
              "\n",
              "        async function convertToInteractive(key) {\n",
              "          const element = document.querySelector('#df-c1ee56a7-1180-465b-bd53-8aa6c0b07cf9');\n",
              "          const dataTable =\n",
              "            await google.colab.kernel.invokeFunction('convertToInteractive',\n",
              "                                                     [key], {});\n",
              "          if (!dataTable) return;\n",
              "\n",
              "          const docLinkHtml = 'Like what you see? Visit the ' +\n",
              "            '<a target=\"_blank\" href=https://colab.research.google.com/notebooks/data_table.ipynb>data table notebook</a>'\n",
              "            + ' to learn more about interactive tables.';\n",
              "          element.innerHTML = '';\n",
              "          dataTable['output_type'] = 'display_data';\n",
              "          await google.colab.output.renderOutput(dataTable, element);\n",
              "          const docLink = document.createElement('div');\n",
              "          docLink.innerHTML = docLinkHtml;\n",
              "          element.appendChild(docLink);\n",
              "        }\n",
              "      </script>\n",
              "    </div>\n",
              "  </div>\n",
              "  "
            ]
          },
          "metadata": {},
          "execution_count": 80
        }
      ]
    },
    {
      "cell_type": "markdown",
      "source": [
        "## Checking the information about the columns of data"
      ],
      "metadata": {
        "id": "YHmNDfuXToNO"
      }
    },
    {
      "cell_type": "code",
      "source": [
        "df.info()"
      ],
      "metadata": {
        "colab": {
          "base_uri": "https://localhost:8080/"
        },
        "id": "IPIaqIbSReuv",
        "outputId": "2e8d7192-5c4b-4726-df96-afc5455f0f50"
      },
      "execution_count": null,
      "outputs": [
        {
          "output_type": "stream",
          "name": "stdout",
          "text": [
            "<class 'pandas.core.frame.DataFrame'>\n",
            "RangeIndex: 97675 entries, 0 to 97674\n",
            "Data columns (total 24 columns):\n",
            " #   Column         Non-Null Count  Dtype  \n",
            "---  ------         --------------  -----  \n",
            " 0   property_id    97675 non-null  int64  \n",
            " 1   location_id    97675 non-null  int64  \n",
            " 2   page_url       97675 non-null  object \n",
            " 3   property_type  97674 non-null  object \n",
            " 4   price          97674 non-null  float64\n",
            " 5   price_bin      97674 non-null  object \n",
            " 6   location       97674 non-null  object \n",
            " 7   city           97674 non-null  object \n",
            " 8   province_name  97674 non-null  object \n",
            " 9   locality       97674 non-null  object \n",
            " 10  latitude       97674 non-null  float64\n",
            " 11  longitude      97674 non-null  float64\n",
            " 12  baths          97674 non-null  float64\n",
            " 13  area           97674 non-null  object \n",
            " 14  area_marla     97674 non-null  float64\n",
            " 15  area_sqft      97674 non-null  float64\n",
            " 16  purpose        97674 non-null  object \n",
            " 17  bedrooms       97674 non-null  float64\n",
            " 18  date_added     97674 non-null  object \n",
            " 19  year           97674 non-null  float64\n",
            " 20  month          97674 non-null  float64\n",
            " 21  day            97674 non-null  float64\n",
            " 22  agency         57563 non-null  object \n",
            " 23  agent          57563 non-null  object \n",
            "dtypes: float64(10), int64(2), object(12)\n",
            "memory usage: 17.9+ MB\n"
          ]
        }
      ]
    },
    {
      "cell_type": "markdown",
      "source": [
        "## **Statistical information** about the **numeric columns of data**"
      ],
      "metadata": {
        "id": "STUQZL_RUvZn"
      }
    },
    {
      "cell_type": "code",
      "source": [
        "df.describe()"
      ],
      "metadata": {
        "colab": {
          "base_uri": "https://localhost:8080/",
          "height": 364
        },
        "id": "8i6hinmNRhDv",
        "outputId": "5c20072f-e224-47a9-fce5-1b4396634078"
      },
      "execution_count": null,
      "outputs": [
        {
          "output_type": "execute_result",
          "data": {
            "text/plain": [
              "        property_id   location_id         price      latitude     longitude  \\\n",
              "count  9.767500e+04  97675.000000  9.767400e+04  97674.000000  97674.000000   \n",
              "mean   1.436635e+07   4317.330740  1.811436e+07     29.886105     71.350516   \n",
              "std    2.403886e+06   3711.227415  3.773551e+07      3.747797      3.149331   \n",
              "min    8.657500e+04      1.000000  0.000000e+00     11.052446     25.906027   \n",
              "25%    1.321642e+07   1141.000000  1.150000e+05     24.938913     67.126094   \n",
              "50%    1.517123e+07   3286.000000  7.800000e+06     31.461578     73.070930   \n",
              "75%    1.616987e+07   7184.000000  1.950000e+07     33.550096     74.211009   \n",
              "max    1.679609e+07  13971.000000  2.000000e+09     73.184088     80.161430   \n",
              "\n",
              "              baths    area_marla     area_sqft      bedrooms          year  \\\n",
              "count  97674.000000  97674.000000  9.767400e+04  97674.000000  97674.000000   \n",
              "mean       3.128949     11.857974  3.228344e+03      3.294613   2018.873979   \n",
              "std        2.229846     66.549293  1.811811e+04      1.981863      0.331875   \n",
              "min        0.000000      0.000000  0.000000e+00      0.000000   2018.000000   \n",
              "25%        2.000000      4.900000  1.334030e+03      2.000000   2019.000000   \n",
              "50%        3.000000      7.100000  1.932980e+03      3.000000   2019.000000   \n",
              "75%        5.000000     12.000000  3.267010e+03      5.000000   2019.000000   \n",
              "max       13.000000  12000.000000  3.267012e+06     18.000000   2019.000000   \n",
              "\n",
              "              month           day  \n",
              "count  97674.000000  97674.000000  \n",
              "mean       5.668991     11.768290  \n",
              "std        2.384878      7.933207  \n",
              "min        1.000000      1.000000  \n",
              "25%        4.000000      5.000000  \n",
              "50%        6.000000      9.000000  \n",
              "75%        7.000000     18.000000  \n",
              "max       12.000000     30.000000  "
            ],
            "text/html": [
              "\n",
              "  <div id=\"df-6a2c6fed-934a-481c-8a73-502a203be9d9\">\n",
              "    <div class=\"colab-df-container\">\n",
              "      <div>\n",
              "<style scoped>\n",
              "    .dataframe tbody tr th:only-of-type {\n",
              "        vertical-align: middle;\n",
              "    }\n",
              "\n",
              "    .dataframe tbody tr th {\n",
              "        vertical-align: top;\n",
              "    }\n",
              "\n",
              "    .dataframe thead th {\n",
              "        text-align: right;\n",
              "    }\n",
              "</style>\n",
              "<table border=\"1\" class=\"dataframe\">\n",
              "  <thead>\n",
              "    <tr style=\"text-align: right;\">\n",
              "      <th></th>\n",
              "      <th>property_id</th>\n",
              "      <th>location_id</th>\n",
              "      <th>price</th>\n",
              "      <th>latitude</th>\n",
              "      <th>longitude</th>\n",
              "      <th>baths</th>\n",
              "      <th>area_marla</th>\n",
              "      <th>area_sqft</th>\n",
              "      <th>bedrooms</th>\n",
              "      <th>year</th>\n",
              "      <th>month</th>\n",
              "      <th>day</th>\n",
              "    </tr>\n",
              "  </thead>\n",
              "  <tbody>\n",
              "    <tr>\n",
              "      <th>count</th>\n",
              "      <td>9.767500e+04</td>\n",
              "      <td>97675.000000</td>\n",
              "      <td>9.767400e+04</td>\n",
              "      <td>97674.000000</td>\n",
              "      <td>97674.000000</td>\n",
              "      <td>97674.000000</td>\n",
              "      <td>97674.000000</td>\n",
              "      <td>9.767400e+04</td>\n",
              "      <td>97674.000000</td>\n",
              "      <td>97674.000000</td>\n",
              "      <td>97674.000000</td>\n",
              "      <td>97674.000000</td>\n",
              "    </tr>\n",
              "    <tr>\n",
              "      <th>mean</th>\n",
              "      <td>1.436635e+07</td>\n",
              "      <td>4317.330740</td>\n",
              "      <td>1.811436e+07</td>\n",
              "      <td>29.886105</td>\n",
              "      <td>71.350516</td>\n",
              "      <td>3.128949</td>\n",
              "      <td>11.857974</td>\n",
              "      <td>3.228344e+03</td>\n",
              "      <td>3.294613</td>\n",
              "      <td>2018.873979</td>\n",
              "      <td>5.668991</td>\n",
              "      <td>11.768290</td>\n",
              "    </tr>\n",
              "    <tr>\n",
              "      <th>std</th>\n",
              "      <td>2.403886e+06</td>\n",
              "      <td>3711.227415</td>\n",
              "      <td>3.773551e+07</td>\n",
              "      <td>3.747797</td>\n",
              "      <td>3.149331</td>\n",
              "      <td>2.229846</td>\n",
              "      <td>66.549293</td>\n",
              "      <td>1.811811e+04</td>\n",
              "      <td>1.981863</td>\n",
              "      <td>0.331875</td>\n",
              "      <td>2.384878</td>\n",
              "      <td>7.933207</td>\n",
              "    </tr>\n",
              "    <tr>\n",
              "      <th>min</th>\n",
              "      <td>8.657500e+04</td>\n",
              "      <td>1.000000</td>\n",
              "      <td>0.000000e+00</td>\n",
              "      <td>11.052446</td>\n",
              "      <td>25.906027</td>\n",
              "      <td>0.000000</td>\n",
              "      <td>0.000000</td>\n",
              "      <td>0.000000e+00</td>\n",
              "      <td>0.000000</td>\n",
              "      <td>2018.000000</td>\n",
              "      <td>1.000000</td>\n",
              "      <td>1.000000</td>\n",
              "    </tr>\n",
              "    <tr>\n",
              "      <th>25%</th>\n",
              "      <td>1.321642e+07</td>\n",
              "      <td>1141.000000</td>\n",
              "      <td>1.150000e+05</td>\n",
              "      <td>24.938913</td>\n",
              "      <td>67.126094</td>\n",
              "      <td>2.000000</td>\n",
              "      <td>4.900000</td>\n",
              "      <td>1.334030e+03</td>\n",
              "      <td>2.000000</td>\n",
              "      <td>2019.000000</td>\n",
              "      <td>4.000000</td>\n",
              "      <td>5.000000</td>\n",
              "    </tr>\n",
              "    <tr>\n",
              "      <th>50%</th>\n",
              "      <td>1.517123e+07</td>\n",
              "      <td>3286.000000</td>\n",
              "      <td>7.800000e+06</td>\n",
              "      <td>31.461578</td>\n",
              "      <td>73.070930</td>\n",
              "      <td>3.000000</td>\n",
              "      <td>7.100000</td>\n",
              "      <td>1.932980e+03</td>\n",
              "      <td>3.000000</td>\n",
              "      <td>2019.000000</td>\n",
              "      <td>6.000000</td>\n",
              "      <td>9.000000</td>\n",
              "    </tr>\n",
              "    <tr>\n",
              "      <th>75%</th>\n",
              "      <td>1.616987e+07</td>\n",
              "      <td>7184.000000</td>\n",
              "      <td>1.950000e+07</td>\n",
              "      <td>33.550096</td>\n",
              "      <td>74.211009</td>\n",
              "      <td>5.000000</td>\n",
              "      <td>12.000000</td>\n",
              "      <td>3.267010e+03</td>\n",
              "      <td>5.000000</td>\n",
              "      <td>2019.000000</td>\n",
              "      <td>7.000000</td>\n",
              "      <td>18.000000</td>\n",
              "    </tr>\n",
              "    <tr>\n",
              "      <th>max</th>\n",
              "      <td>1.679609e+07</td>\n",
              "      <td>13971.000000</td>\n",
              "      <td>2.000000e+09</td>\n",
              "      <td>73.184088</td>\n",
              "      <td>80.161430</td>\n",
              "      <td>13.000000</td>\n",
              "      <td>12000.000000</td>\n",
              "      <td>3.267012e+06</td>\n",
              "      <td>18.000000</td>\n",
              "      <td>2019.000000</td>\n",
              "      <td>12.000000</td>\n",
              "      <td>30.000000</td>\n",
              "    </tr>\n",
              "  </tbody>\n",
              "</table>\n",
              "</div>\n",
              "      <button class=\"colab-df-convert\" onclick=\"convertToInteractive('df-6a2c6fed-934a-481c-8a73-502a203be9d9')\"\n",
              "              title=\"Convert this dataframe to an interactive table.\"\n",
              "              style=\"display:none;\">\n",
              "        \n",
              "  <svg xmlns=\"http://www.w3.org/2000/svg\" height=\"24px\"viewBox=\"0 0 24 24\"\n",
              "       width=\"24px\">\n",
              "    <path d=\"M0 0h24v24H0V0z\" fill=\"none\"/>\n",
              "    <path d=\"M18.56 5.44l.94 2.06.94-2.06 2.06-.94-2.06-.94-.94-2.06-.94 2.06-2.06.94zm-11 1L8.5 8.5l.94-2.06 2.06-.94-2.06-.94L8.5 2.5l-.94 2.06-2.06.94zm10 10l.94 2.06.94-2.06 2.06-.94-2.06-.94-.94-2.06-.94 2.06-2.06.94z\"/><path d=\"M17.41 7.96l-1.37-1.37c-.4-.4-.92-.59-1.43-.59-.52 0-1.04.2-1.43.59L10.3 9.45l-7.72 7.72c-.78.78-.78 2.05 0 2.83L4 21.41c.39.39.9.59 1.41.59.51 0 1.02-.2 1.41-.59l7.78-7.78 2.81-2.81c.8-.78.8-2.07 0-2.86zM5.41 20L4 18.59l7.72-7.72 1.47 1.35L5.41 20z\"/>\n",
              "  </svg>\n",
              "      </button>\n",
              "      \n",
              "  <style>\n",
              "    .colab-df-container {\n",
              "      display:flex;\n",
              "      flex-wrap:wrap;\n",
              "      gap: 12px;\n",
              "    }\n",
              "\n",
              "    .colab-df-convert {\n",
              "      background-color: #E8F0FE;\n",
              "      border: none;\n",
              "      border-radius: 50%;\n",
              "      cursor: pointer;\n",
              "      display: none;\n",
              "      fill: #1967D2;\n",
              "      height: 32px;\n",
              "      padding: 0 0 0 0;\n",
              "      width: 32px;\n",
              "    }\n",
              "\n",
              "    .colab-df-convert:hover {\n",
              "      background-color: #E2EBFA;\n",
              "      box-shadow: 0px 1px 2px rgba(60, 64, 67, 0.3), 0px 1px 3px 1px rgba(60, 64, 67, 0.15);\n",
              "      fill: #174EA6;\n",
              "    }\n",
              "\n",
              "    [theme=dark] .colab-df-convert {\n",
              "      background-color: #3B4455;\n",
              "      fill: #D2E3FC;\n",
              "    }\n",
              "\n",
              "    [theme=dark] .colab-df-convert:hover {\n",
              "      background-color: #434B5C;\n",
              "      box-shadow: 0px 1px 3px 1px rgba(0, 0, 0, 0.15);\n",
              "      filter: drop-shadow(0px 1px 2px rgba(0, 0, 0, 0.3));\n",
              "      fill: #FFFFFF;\n",
              "    }\n",
              "  </style>\n",
              "\n",
              "      <script>\n",
              "        const buttonEl =\n",
              "          document.querySelector('#df-6a2c6fed-934a-481c-8a73-502a203be9d9 button.colab-df-convert');\n",
              "        buttonEl.style.display =\n",
              "          google.colab.kernel.accessAllowed ? 'block' : 'none';\n",
              "\n",
              "        async function convertToInteractive(key) {\n",
              "          const element = document.querySelector('#df-6a2c6fed-934a-481c-8a73-502a203be9d9');\n",
              "          const dataTable =\n",
              "            await google.colab.kernel.invokeFunction('convertToInteractive',\n",
              "                                                     [key], {});\n",
              "          if (!dataTable) return;\n",
              "\n",
              "          const docLinkHtml = 'Like what you see? Visit the ' +\n",
              "            '<a target=\"_blank\" href=https://colab.research.google.com/notebooks/data_table.ipynb>data table notebook</a>'\n",
              "            + ' to learn more about interactive tables.';\n",
              "          element.innerHTML = '';\n",
              "          dataTable['output_type'] = 'display_data';\n",
              "          await google.colab.output.renderOutput(dataTable, element);\n",
              "          const docLink = document.createElement('div');\n",
              "          docLink.innerHTML = docLinkHtml;\n",
              "          element.appendChild(docLink);\n",
              "        }\n",
              "      </script>\n",
              "    </div>\n",
              "  </div>\n",
              "  "
            ]
          },
          "metadata": {},
          "execution_count": 82
        }
      ]
    },
    {
      "cell_type": "markdown",
      "source": [
        "##**Statistical information** about the **object type columns** of data"
      ],
      "metadata": {
        "id": "iF7sO2F2U2qv"
      }
    },
    {
      "cell_type": "code",
      "source": [
        "df.describe(include=object)"
      ],
      "metadata": {
        "colab": {
          "base_uri": "https://localhost:8080/",
          "height": 325
        },
        "id": "v6MAmKlERnSO",
        "outputId": "b0b2cfc4-4e29-4fa2-ac9e-6b0764e5e9f8"
      },
      "execution_count": null,
      "outputs": [
        {
          "output_type": "execute_result",
          "data": {
            "text/plain": [
              "                                                 page_url property_type  \\\n",
              "count                                               97675         97674   \n",
              "unique                                              97675             7   \n",
              "top     https://www.zameen.com/Property/lahore_model_t...         House   \n",
              "freq                                                    1         59995   \n",
              "\n",
              "       price_bin     location     city province_name  \\\n",
              "count      97674        97674    97674         97674   \n",
              "unique         4         1469        5             3   \n",
              "top          Low  DHA Defence  Karachi        Punjab   \n",
              "freq       26451        13153    33908         43353   \n",
              "\n",
              "                           locality     area   purpose  date_added  \\\n",
              "count                         97674    97674     97674       97674   \n",
              "unique                         1545      305         2         146   \n",
              "top     DHA Defence, Karachi, Sindh  1 Kanal  For Sale  05-06-2019   \n",
              "freq                           6372    12346     67643        4333   \n",
              "\n",
              "                 agency                                              agent  \n",
              "count             57563                                              57563  \n",
              "unique             4691                                               7997  \n",
              "top     Chaudhry Estate  Daud Ahmad(Co-CEO), Shafique Arshad Waince(Co-...  \n",
              "freq                279                                                271  "
            ],
            "text/html": [
              "\n",
              "  <div id=\"df-2b9c2c76-71fa-4315-96ee-5ec27a6de052\">\n",
              "    <div class=\"colab-df-container\">\n",
              "      <div>\n",
              "<style scoped>\n",
              "    .dataframe tbody tr th:only-of-type {\n",
              "        vertical-align: middle;\n",
              "    }\n",
              "\n",
              "    .dataframe tbody tr th {\n",
              "        vertical-align: top;\n",
              "    }\n",
              "\n",
              "    .dataframe thead th {\n",
              "        text-align: right;\n",
              "    }\n",
              "</style>\n",
              "<table border=\"1\" class=\"dataframe\">\n",
              "  <thead>\n",
              "    <tr style=\"text-align: right;\">\n",
              "      <th></th>\n",
              "      <th>page_url</th>\n",
              "      <th>property_type</th>\n",
              "      <th>price_bin</th>\n",
              "      <th>location</th>\n",
              "      <th>city</th>\n",
              "      <th>province_name</th>\n",
              "      <th>locality</th>\n",
              "      <th>area</th>\n",
              "      <th>purpose</th>\n",
              "      <th>date_added</th>\n",
              "      <th>agency</th>\n",
              "      <th>agent</th>\n",
              "    </tr>\n",
              "  </thead>\n",
              "  <tbody>\n",
              "    <tr>\n",
              "      <th>count</th>\n",
              "      <td>97675</td>\n",
              "      <td>97674</td>\n",
              "      <td>97674</td>\n",
              "      <td>97674</td>\n",
              "      <td>97674</td>\n",
              "      <td>97674</td>\n",
              "      <td>97674</td>\n",
              "      <td>97674</td>\n",
              "      <td>97674</td>\n",
              "      <td>97674</td>\n",
              "      <td>57563</td>\n",
              "      <td>57563</td>\n",
              "    </tr>\n",
              "    <tr>\n",
              "      <th>unique</th>\n",
              "      <td>97675</td>\n",
              "      <td>7</td>\n",
              "      <td>4</td>\n",
              "      <td>1469</td>\n",
              "      <td>5</td>\n",
              "      <td>3</td>\n",
              "      <td>1545</td>\n",
              "      <td>305</td>\n",
              "      <td>2</td>\n",
              "      <td>146</td>\n",
              "      <td>4691</td>\n",
              "      <td>7997</td>\n",
              "    </tr>\n",
              "    <tr>\n",
              "      <th>top</th>\n",
              "      <td>https://www.zameen.com/Property/lahore_model_t...</td>\n",
              "      <td>House</td>\n",
              "      <td>Low</td>\n",
              "      <td>DHA Defence</td>\n",
              "      <td>Karachi</td>\n",
              "      <td>Punjab</td>\n",
              "      <td>DHA Defence, Karachi, Sindh</td>\n",
              "      <td>1 Kanal</td>\n",
              "      <td>For Sale</td>\n",
              "      <td>05-06-2019</td>\n",
              "      <td>Chaudhry Estate</td>\n",
              "      <td>Daud Ahmad(Co-CEO), Shafique Arshad Waince(Co-...</td>\n",
              "    </tr>\n",
              "    <tr>\n",
              "      <th>freq</th>\n",
              "      <td>1</td>\n",
              "      <td>59995</td>\n",
              "      <td>26451</td>\n",
              "      <td>13153</td>\n",
              "      <td>33908</td>\n",
              "      <td>43353</td>\n",
              "      <td>6372</td>\n",
              "      <td>12346</td>\n",
              "      <td>67643</td>\n",
              "      <td>4333</td>\n",
              "      <td>279</td>\n",
              "      <td>271</td>\n",
              "    </tr>\n",
              "  </tbody>\n",
              "</table>\n",
              "</div>\n",
              "      <button class=\"colab-df-convert\" onclick=\"convertToInteractive('df-2b9c2c76-71fa-4315-96ee-5ec27a6de052')\"\n",
              "              title=\"Convert this dataframe to an interactive table.\"\n",
              "              style=\"display:none;\">\n",
              "        \n",
              "  <svg xmlns=\"http://www.w3.org/2000/svg\" height=\"24px\"viewBox=\"0 0 24 24\"\n",
              "       width=\"24px\">\n",
              "    <path d=\"M0 0h24v24H0V0z\" fill=\"none\"/>\n",
              "    <path d=\"M18.56 5.44l.94 2.06.94-2.06 2.06-.94-2.06-.94-.94-2.06-.94 2.06-2.06.94zm-11 1L8.5 8.5l.94-2.06 2.06-.94-2.06-.94L8.5 2.5l-.94 2.06-2.06.94zm10 10l.94 2.06.94-2.06 2.06-.94-2.06-.94-.94-2.06-.94 2.06-2.06.94z\"/><path d=\"M17.41 7.96l-1.37-1.37c-.4-.4-.92-.59-1.43-.59-.52 0-1.04.2-1.43.59L10.3 9.45l-7.72 7.72c-.78.78-.78 2.05 0 2.83L4 21.41c.39.39.9.59 1.41.59.51 0 1.02-.2 1.41-.59l7.78-7.78 2.81-2.81c.8-.78.8-2.07 0-2.86zM5.41 20L4 18.59l7.72-7.72 1.47 1.35L5.41 20z\"/>\n",
              "  </svg>\n",
              "      </button>\n",
              "      \n",
              "  <style>\n",
              "    .colab-df-container {\n",
              "      display:flex;\n",
              "      flex-wrap:wrap;\n",
              "      gap: 12px;\n",
              "    }\n",
              "\n",
              "    .colab-df-convert {\n",
              "      background-color: #E8F0FE;\n",
              "      border: none;\n",
              "      border-radius: 50%;\n",
              "      cursor: pointer;\n",
              "      display: none;\n",
              "      fill: #1967D2;\n",
              "      height: 32px;\n",
              "      padding: 0 0 0 0;\n",
              "      width: 32px;\n",
              "    }\n",
              "\n",
              "    .colab-df-convert:hover {\n",
              "      background-color: #E2EBFA;\n",
              "      box-shadow: 0px 1px 2px rgba(60, 64, 67, 0.3), 0px 1px 3px 1px rgba(60, 64, 67, 0.15);\n",
              "      fill: #174EA6;\n",
              "    }\n",
              "\n",
              "    [theme=dark] .colab-df-convert {\n",
              "      background-color: #3B4455;\n",
              "      fill: #D2E3FC;\n",
              "    }\n",
              "\n",
              "    [theme=dark] .colab-df-convert:hover {\n",
              "      background-color: #434B5C;\n",
              "      box-shadow: 0px 1px 3px 1px rgba(0, 0, 0, 0.15);\n",
              "      filter: drop-shadow(0px 1px 2px rgba(0, 0, 0, 0.3));\n",
              "      fill: #FFFFFF;\n",
              "    }\n",
              "  </style>\n",
              "\n",
              "      <script>\n",
              "        const buttonEl =\n",
              "          document.querySelector('#df-2b9c2c76-71fa-4315-96ee-5ec27a6de052 button.colab-df-convert');\n",
              "        buttonEl.style.display =\n",
              "          google.colab.kernel.accessAllowed ? 'block' : 'none';\n",
              "\n",
              "        async function convertToInteractive(key) {\n",
              "          const element = document.querySelector('#df-2b9c2c76-71fa-4315-96ee-5ec27a6de052');\n",
              "          const dataTable =\n",
              "            await google.colab.kernel.invokeFunction('convertToInteractive',\n",
              "                                                     [key], {});\n",
              "          if (!dataTable) return;\n",
              "\n",
              "          const docLinkHtml = 'Like what you see? Visit the ' +\n",
              "            '<a target=\"_blank\" href=https://colab.research.google.com/notebooks/data_table.ipynb>data table notebook</a>'\n",
              "            + ' to learn more about interactive tables.';\n",
              "          element.innerHTML = '';\n",
              "          dataTable['output_type'] = 'display_data';\n",
              "          await google.colab.output.renderOutput(dataTable, element);\n",
              "          const docLink = document.createElement('div');\n",
              "          docLink.innerHTML = docLinkHtml;\n",
              "          element.appendChild(docLink);\n",
              "        }\n",
              "      </script>\n",
              "    </div>\n",
              "  </div>\n",
              "  "
            ]
          },
          "metadata": {},
          "execution_count": 83
        }
      ]
    },
    {
      "cell_type": "markdown",
      "source": [
        "## **Removing** the **unwanted** **columns**\n",
        "\n",
        "\n",
        "\n"
      ],
      "metadata": {
        "id": "F9lCMUUgUTxu"
      }
    },
    {
      "cell_type": "code",
      "source": [
        "df.drop(columns=['location_id','property_id','page_url','year','month','price_bin','day','agency','agent','date_added','purpose','bedrooms','baths'],inplace= True)"
      ],
      "metadata": {
        "id": "jNUpMirnRqju"
      },
      "execution_count": null,
      "outputs": []
    },
    {
      "cell_type": "markdown",
      "source": [
        "### **Locality** column is ***combination of location,\tcity,\tprovince_name columns***, so there is no need for this column. Also, there is no need for **area columns** for **seprate units**. Only use area_marla column in further analysis. Dropping these columns"
      ],
      "metadata": {
        "id": "16MMvnQQd-pT"
      }
    },
    {
      "cell_type": "code",
      "source": [
        "df.drop(columns=['locality','area','area_sqft'],inplace=True)"
      ],
      "metadata": {
        "id": "q9F8vhQVd7hc"
      },
      "execution_count": null,
      "outputs": []
    },
    {
      "cell_type": "code",
      "source": [
        "df.info()"
      ],
      "metadata": {
        "colab": {
          "base_uri": "https://localhost:8080/"
        },
        "id": "9JMkNV2eSObu",
        "outputId": "40cc1296-6f79-48a3-c22d-b9bb4681becb"
      },
      "execution_count": null,
      "outputs": [
        {
          "output_type": "stream",
          "name": "stdout",
          "text": [
            "<class 'pandas.core.frame.DataFrame'>\n",
            "RangeIndex: 97675 entries, 0 to 97674\n",
            "Data columns (total 8 columns):\n",
            " #   Column         Non-Null Count  Dtype  \n",
            "---  ------         --------------  -----  \n",
            " 0   property_type  97674 non-null  object \n",
            " 1   price          97674 non-null  float64\n",
            " 2   location       97674 non-null  object \n",
            " 3   city           97674 non-null  object \n",
            " 4   province_name  97674 non-null  object \n",
            " 5   latitude       97674 non-null  float64\n",
            " 6   longitude      97674 non-null  float64\n",
            " 7   area_marla     97674 non-null  float64\n",
            "dtypes: float64(4), object(4)\n",
            "memory usage: 6.0+ MB\n"
          ]
        }
      ]
    },
    {
      "cell_type": "markdown",
      "source": [
        "## **Checking** for the **Null values in data**"
      ],
      "metadata": {
        "id": "XuIrVyWYYa3p"
      }
    },
    {
      "cell_type": "code",
      "source": [
        "df.isnull().sum()\n",
        "#There are no Null values in the desired columns"
      ],
      "metadata": {
        "colab": {
          "base_uri": "https://localhost:8080/"
        },
        "id": "ST2xWRP_Yeh5",
        "outputId": "bc89e753-3bd4-4164-982b-13a62d305784"
      },
      "execution_count": null,
      "outputs": [
        {
          "output_type": "execute_result",
          "data": {
            "text/plain": [
              "property_type    1\n",
              "price            1\n",
              "location         1\n",
              "city             1\n",
              "province_name    1\n",
              "latitude         1\n",
              "longitude        1\n",
              "area_marla       1\n",
              "dtype: int64"
            ]
          },
          "metadata": {},
          "execution_count": 87
        }
      ]
    },
    {
      "cell_type": "markdown",
      "source": [
        "#**EDA**\n",
        "###***1. Data Analysis/ Visualization***\n",
        "###***2. Feature Scaling***\n",
        "###***3. Outlier Handling***"
      ],
      "metadata": {
        "id": "BIamlp18WbVW"
      }
    },
    {
      "cell_type": "markdown",
      "source": [
        "## **1.1 Univariate Analysis**"
      ],
      "metadata": {
        "id": "AkBswgW9WRNu"
      }
    },
    {
      "cell_type": "markdown",
      "source": [
        "### **Property_type** column (Categorical)"
      ],
      "metadata": {
        "id": "ZamHLUFBWWOu"
      }
    },
    {
      "cell_type": "code",
      "source": [
        "df.property_type.value_counts(ascending=False)"
      ],
      "metadata": {
        "colab": {
          "base_uri": "https://localhost:8080/"
        },
        "id": "liUu8cPFSPyO",
        "outputId": "03e4edce-14e7-44f2-aa06-85dfaaffc475"
      },
      "execution_count": null,
      "outputs": [
        {
          "output_type": "execute_result",
          "data": {
            "text/plain": [
              "House            59995\n",
              "Flat             22966\n",
              "Upper Portion     8153\n",
              "Lower Portion     5146\n",
              "Room               668\n",
              "Farm House         461\n",
              "Penthouse          285\n",
              "Name: property_type, dtype: int64"
            ]
          },
          "metadata": {},
          "execution_count": 88
        }
      ]
    },
    {
      "cell_type": "code",
      "source": [
        "plt.figure(figsize=(12, 3))\n",
        "sns.countplot(df['property_type'])"
      ],
      "metadata": {
        "colab": {
          "base_uri": "https://localhost:8080/",
          "height": 300
        },
        "id": "2V6HR6D_VEhu",
        "outputId": "7238d1e6-c5bf-4cd6-c93c-db7b517e9a0a"
      },
      "execution_count": null,
      "outputs": [
        {
          "output_type": "stream",
          "name": "stderr",
          "text": [
            "/usr/local/lib/python3.8/dist-packages/seaborn/_decorators.py:36: FutureWarning: Pass the following variable as a keyword arg: x. From version 0.12, the only valid positional argument will be `data`, and passing other arguments without an explicit keyword will result in an error or misinterpretation.\n",
            "  warnings.warn(\n"
          ]
        },
        {
          "output_type": "execute_result",
          "data": {
            "text/plain": [
              "<matplotlib.axes._subplots.AxesSubplot at 0x7f5ecb8c4af0>"
            ]
          },
          "metadata": {},
          "execution_count": 89
        },
        {
          "output_type": "display_data",
          "data": {
            "text/plain": [
              "<Figure size 864x216 with 1 Axes>"
            ],
            "image/png": "[encoded data removed]"
          },
          "metadata": {
            "needs_background": "light"
          }
        }
      ]
    },
    {
      "cell_type": "markdown",
      "source": [
        "### **Price** column (Numeric) and it is the **dependent column** or **Y_train**"
      ],
      "metadata": {
        "id": "GtA5NiHaZ8Zd"
      }
    },
    {
      "cell_type": "code",
      "source": [
        "sns.distplot(df['price'])"
      ],
      "metadata": {
        "colab": {
          "base_uri": "https://localhost:8080/",
          "height": 365
        },
        "id": "XP3b_RBxVMlN",
        "outputId": "5bff7de9-9114-4585-fec5-8638233da951"
      },
      "execution_count": null,
      "outputs": [
        {
          "output_type": "stream",
          "name": "stderr",
          "text": [
            "/usr/local/lib/python3.8/dist-packages/seaborn/distributions.py:2619: FutureWarning: `distplot` is a deprecated function and will be removed in a future version. Please adapt your code to use either `displot` (a figure-level function with similar flexibility) or `histplot` (an axes-level function for histograms).\n",
            "  warnings.warn(msg, FutureWarning)\n"
          ]
        },
        {
          "output_type": "execute_result",
          "data": {
            "text/plain": [
              "<matplotlib.axes._subplots.AxesSubplot at 0x7f5eca56e370>"
            ]
          },
          "metadata": {},
          "execution_count": 90
        },
        {
          "output_type": "display_data",
          "data": {
            "text/plain": [
              "<Figure size 432x288 with 1 Axes>"
            ],
            "image/png": "[encoded data removed]"
          },
          "metadata": {
            "needs_background": "light"
          }
        }
      ]
    },
    {
      "cell_type": "code",
      "source": [
        "sns.histplot(df['price'],bins=10)\n",
        "# most price of houses lies in the range of 0-24e7 (0-240000000)"
      ],
      "metadata": {
        "colab": {
          "base_uri": "https://localhost:8080/",
          "height": 297
        },
        "id": "WnNJvuNQW8Ht",
        "outputId": "7ce6ea9b-1cce-4597-94e1-16c8bfef8c57"
      },
      "execution_count": null,
      "outputs": [
        {
          "output_type": "execute_result",
          "data": {
            "text/plain": [
              "<matplotlib.axes._subplots.AxesSubplot at 0x7f5eca56ec70>"
            ]
          },
          "metadata": {},
          "execution_count": 91
        },
        {
          "output_type": "display_data",
          "data": {
            "text/plain": [
              "<Figure size 432x288 with 1 Axes>"
            ],
            "image/png": "[encoded data removed]"
          },
          "metadata": {
            "needs_background": "light"
          }
        }
      ]
    },
    {
      "cell_type": "code",
      "source": [
        "# Checking for the outliers in price column data\n",
        "sns.boxplot(df['price'])"
      ],
      "metadata": {
        "colab": {
          "base_uri": "https://localhost:8080/",
          "height": 354
        },
        "id": "KvYHAI3OXSFd",
        "outputId": "fc09d935-3e26-4531-8d6f-4b51417355d2"
      },
      "execution_count": null,
      "outputs": [
        {
          "output_type": "stream",
          "name": "stderr",
          "text": [
            "/usr/local/lib/python3.8/dist-packages/seaborn/_decorators.py:36: FutureWarning: Pass the following variable as a keyword arg: x. From version 0.12, the only valid positional argument will be `data`, and passing other arguments without an explicit keyword will result in an error or misinterpretation.\n",
            "  warnings.warn(\n"
          ]
        },
        {
          "output_type": "execute_result",
          "data": {
            "text/plain": [
              "<matplotlib.axes._subplots.AxesSubplot at 0x7f5eca5cb730>"
            ]
          },
          "metadata": {},
          "execution_count": 92
        },
        {
          "output_type": "display_data",
          "data": {
            "text/plain": [
              "<Figure size 432x288 with 1 Axes>"
            ],
            "image/png": "[encoded data removed]"
          },
          "metadata": {
            "needs_background": "light"
          }
        }
      ]
    },
    {
      "cell_type": "markdown",
      "source": [
        "### **Price column** has **large numbe**r of **outlier values**"
      ],
      "metadata": {
        "id": "eyvxpZsiaAYN"
      }
    },
    {
      "cell_type": "code",
      "source": [
        "# Checking the mean value of Price column\n",
        "df.price.mean()"
      ],
      "metadata": {
        "colab": {
          "base_uri": "https://localhost:8080/"
        },
        "id": "h8E8jCZAX0uc",
        "outputId": "0701db2f-427f-491f-d6ed-5f9b7e3f48e2"
      },
      "execution_count": null,
      "outputs": [
        {
          "output_type": "execute_result",
          "data": {
            "text/plain": [
              "18114364.970442493"
            ]
          },
          "metadata": {},
          "execution_count": 93
        }
      ]
    },
    {
      "cell_type": "code",
      "source": [
        "df[df['price']>df.price.mean()].info()\n",
        "# There are 52577 rows, whose price is greater than the mean value"
      ],
      "metadata": {
        "colab": {
          "base_uri": "https://localhost:8080/"
        },
        "id": "r5wwTovnX49s",
        "outputId": "b101cc49-cb7a-4b00-f2cd-81f77e825515"
      },
      "execution_count": null,
      "outputs": [
        {
          "output_type": "stream",
          "name": "stdout",
          "text": [
            "<class 'pandas.core.frame.DataFrame'>\n",
            "Int64Index: 25694 entries, 0 to 97670\n",
            "Data columns (total 8 columns):\n",
            " #   Column         Non-Null Count  Dtype  \n",
            "---  ------         --------------  -----  \n",
            " 0   property_type  25694 non-null  object \n",
            " 1   price          25694 non-null  float64\n",
            " 2   location       25694 non-null  object \n",
            " 3   city           25694 non-null  object \n",
            " 4   province_name  25694 non-null  object \n",
            " 5   latitude       25694 non-null  float64\n",
            " 6   longitude      25694 non-null  float64\n",
            " 7   area_marla     25694 non-null  float64\n",
            "dtypes: float64(4), object(4)\n",
            "memory usage: 1.8+ MB\n"
          ]
        }
      ]
    },
    {
      "cell_type": "markdown",
      "source": [
        "## **Location** column (categorical) "
      ],
      "metadata": {
        "id": "Q40ZjZDfaJY2"
      }
    },
    {
      "cell_type": "markdown",
      "source": [
        "### Checking the **highest 10 localities** which has the **highest proportion** of **property assets**"
      ],
      "metadata": {
        "id": "MBybXT2_c9dM"
      }
    },
    {
      "cell_type": "code",
      "source": [
        "plt.figure(figsize=(12, 3))\n",
        "df['location'].value_counts(ascending=False).head(10).plot(kind='bar')"
      ],
      "metadata": {
        "colab": {
          "base_uri": "https://localhost:8080/",
          "height": 337
        },
        "id": "KHrQ38njX_98",
        "outputId": "bc046971-d0e8-4f0a-ec89-8f1e6a86f8f1"
      },
      "execution_count": null,
      "outputs": [
        {
          "output_type": "execute_result",
          "data": {
            "text/plain": [
              "<matplotlib.axes._subplots.AxesSubplot at 0x7f5ecb4b7a60>"
            ]
          },
          "metadata": {},
          "execution_count": 95
        },
        {
          "output_type": "display_data",
          "data": {
            "text/plain": [
              "<Figure size 864x216 with 1 Axes>"
            ],
            "image/png": "[encoded data removed]"
          },
          "metadata": {
            "needs_background": "light"
          }
        }
      ]
    },
    {
      "cell_type": "markdown",
      "source": [
        "### **Province** Name ***column*** (categorical)"
      ],
      "metadata": {
        "id": "rlRjlillnP0Q"
      }
    },
    {
      "cell_type": "code",
      "source": [
        "plt.figure(figsize=(10, 3))\n",
        "df['province_name'].value_counts(ascending=False).plot(kind='bar')"
      ],
      "metadata": {
        "colab": {
          "base_uri": "https://localhost:8080/",
          "height": 309
        },
        "id": "JMvl5dMzoaiA",
        "outputId": "14d40f2a-91f0-4f17-e71e-288e32974aa2"
      },
      "execution_count": null,
      "outputs": [
        {
          "output_type": "execute_result",
          "data": {
            "text/plain": [
              "<matplotlib.axes._subplots.AxesSubplot at 0x7f5ecb18c700>"
            ]
          },
          "metadata": {},
          "execution_count": 96
        },
        {
          "output_type": "display_data",
          "data": {
            "text/plain": [
              "<Figure size 720x216 with 1 Axes>"
            ],
            "image/png": "[encoded data removed]"
          },
          "metadata": {
            "needs_background": "light"
          }
        }
      ]
    },
    {
      "cell_type": "markdown",
      "source": [
        "### **City** Name ***column*** (categorical)"
      ],
      "metadata": {
        "id": "YcvhcEVooypY"
      }
    },
    {
      "cell_type": "code",
      "source": [
        "plt.figure(figsize=(10, 3))\n",
        "df['city'].value_counts(ascending=False).plot(kind='bar')"
      ],
      "metadata": {
        "colab": {
          "base_uri": "https://localhost:8080/",
          "height": 275
        },
        "id": "sV9Kngfdo3ig",
        "outputId": "f4123503-3d15-4ed9-aaeb-561955910808"
      },
      "execution_count": null,
      "outputs": [
        {
          "output_type": "execute_result",
          "data": {
            "text/plain": [
              "<matplotlib.axes._subplots.AxesSubplot at 0x7f5ecb1238b0>"
            ]
          },
          "metadata": {},
          "execution_count": 97
        },
        {
          "output_type": "display_data",
          "data": {
            "text/plain": [
              "<Figure size 720x216 with 1 Axes>"
            ],
            "image/png": "[encoded data removed]"
          },
          "metadata": {
            "needs_background": "light"
          }
        }
      ]
    },
    {
      "cell_type": "markdown",
      "source": [
        "## **Latitude** and **Longitude** columns (numeric) "
      ],
      "metadata": {
        "id": "cggDhYCVgRXD"
      }
    },
    {
      "cell_type": "markdown",
      "source": [
        "### **Displot** of **latitude** column"
      ],
      "metadata": {
        "id": "cqmBSZUoiZI0"
      }
    },
    {
      "cell_type": "code",
      "source": [
        "#plt.figure(figsize=(12, 3))\n",
        "sns.distplot(df['latitude'])\n"
      ],
      "metadata": {
        "colab": {
          "base_uri": "https://localhost:8080/",
          "height": 354
        },
        "id": "x7MTGa_IbFw7",
        "outputId": "8adacc32-07f7-45d8-b572-07fed5f835b8"
      },
      "execution_count": null,
      "outputs": [
        {
          "output_type": "stream",
          "name": "stderr",
          "text": [
            "/usr/local/lib/python3.8/dist-packages/seaborn/distributions.py:2619: FutureWarning: `distplot` is a deprecated function and will be removed in a future version. Please adapt your code to use either `displot` (a figure-level function with similar flexibility) or `histplot` (an axes-level function for histograms).\n",
            "  warnings.warn(msg, FutureWarning)\n"
          ]
        },
        {
          "output_type": "execute_result",
          "data": {
            "text/plain": [
              "<matplotlib.axes._subplots.AxesSubplot at 0x7f5eca580bb0>"
            ]
          },
          "metadata": {},
          "execution_count": 98
        },
        {
          "output_type": "display_data",
          "data": {
            "text/plain": [
              "<Figure size 432x288 with 1 Axes>"
            ],
            "image/png": "[encoded data removed]"
          },
          "metadata": {
            "needs_background": "light"
          }
        }
      ]
    },
    {
      "cell_type": "markdown",
      "source": [
        "### Checking for **outliers** in **latitude**"
      ],
      "metadata": {
        "id": "jS3-XOfcifbq"
      }
    },
    {
      "cell_type": "code",
      "source": [
        "sns.boxplot(df['latitude'])"
      ],
      "metadata": {
        "colab": {
          "base_uri": "https://localhost:8080/",
          "height": 354
        },
        "id": "OyIlfSD1iVI1",
        "outputId": "270d2610-63be-4a00-b22e-a9198ca21c86"
      },
      "execution_count": null,
      "outputs": [
        {
          "output_type": "stream",
          "name": "stderr",
          "text": [
            "/usr/local/lib/python3.8/dist-packages/seaborn/_decorators.py:36: FutureWarning: Pass the following variable as a keyword arg: x. From version 0.12, the only valid positional argument will be `data`, and passing other arguments without an explicit keyword will result in an error or misinterpretation.\n",
            "  warnings.warn(\n"
          ]
        },
        {
          "output_type": "execute_result",
          "data": {
            "text/plain": [
              "<matplotlib.axes._subplots.AxesSubplot at 0x7f5eca596190>"
            ]
          },
          "metadata": {},
          "execution_count": 99
        },
        {
          "output_type": "display_data",
          "data": {
            "text/plain": [
              "<Figure size 432x288 with 1 Axes>"
            ],
            "image/png": "[encoded data removed]"
          },
          "metadata": {
            "needs_background": "light"
          }
        }
      ]
    },
    {
      "cell_type": "markdown",
      "source": [
        "### There are **outliers** in **latitude** column, in both **before lower limit**  and **after upper limit**"
      ],
      "metadata": {
        "id": "eMW86q4Dim_S"
      }
    },
    {
      "cell_type": "markdown",
      "source": [
        "### **Displot** of **longitude** column"
      ],
      "metadata": {
        "id": "wa18jPoais9i"
      }
    },
    {
      "cell_type": "code",
      "source": [
        "sns.distplot(df['longitude'])"
      ],
      "metadata": {
        "colab": {
          "base_uri": "https://localhost:8080/",
          "height": 354
        },
        "id": "cTuVREuRgjKZ",
        "outputId": "09467bc9-c08e-4760-979d-0af4e167a007"
      },
      "execution_count": null,
      "outputs": [
        {
          "output_type": "stream",
          "name": "stderr",
          "text": [
            "/usr/local/lib/python3.8/dist-packages/seaborn/distributions.py:2619: FutureWarning: `distplot` is a deprecated function and will be removed in a future version. Please adapt your code to use either `displot` (a figure-level function with similar flexibility) or `histplot` (an axes-level function for histograms).\n",
            "  warnings.warn(msg, FutureWarning)\n"
          ]
        },
        {
          "output_type": "execute_result",
          "data": {
            "text/plain": [
              "<matplotlib.axes._subplots.AxesSubplot at 0x7f5ecd6daee0>"
            ]
          },
          "metadata": {},
          "execution_count": 100
        },
        {
          "output_type": "display_data",
          "data": {
            "text/plain": [
              "<Figure size 432x288 with 1 Axes>"
            ],
            "image/png": "[encoded data removed]"
          },
          "metadata": {
            "needs_background": "light"
          }
        }
      ]
    },
    {
      "cell_type": "markdown",
      "source": [
        "### Checking for **outliers** in **latitude**"
      ],
      "metadata": {
        "id": "h6qD6D15izNi"
      }
    },
    {
      "cell_type": "code",
      "source": [
        "sns.boxplot(df['longitude'])"
      ],
      "metadata": {
        "colab": {
          "base_uri": "https://localhost:8080/",
          "height": 354
        },
        "id": "X0EEo37kjSWS",
        "outputId": "a017e3d6-7a8b-437e-c551-8afcb7e9a50b"
      },
      "execution_count": null,
      "outputs": [
        {
          "output_type": "stream",
          "name": "stderr",
          "text": [
            "/usr/local/lib/python3.8/dist-packages/seaborn/_decorators.py:36: FutureWarning: Pass the following variable as a keyword arg: x. From version 0.12, the only valid positional argument will be `data`, and passing other arguments without an explicit keyword will result in an error or misinterpretation.\n",
            "  warnings.warn(\n"
          ]
        },
        {
          "output_type": "execute_result",
          "data": {
            "text/plain": [
              "<matplotlib.axes._subplots.AxesSubplot at 0x7f5ecb783940>"
            ]
          },
          "metadata": {},
          "execution_count": 101
        },
        {
          "output_type": "display_data",
          "data": {
            "text/plain": [
              "<Figure size 432x288 with 1 Axes>"
            ],
            "image/png": "[encoded data removed]"
          },
          "metadata": {
            "needs_background": "light"
          }
        }
      ]
    },
    {
      "cell_type": "markdown",
      "source": [
        "### There are **outliers** in **latitude** column and only before lower limit"
      ],
      "metadata": {
        "id": "beO1AI5TjSg6"
      }
    },
    {
      "cell_type": "markdown",
      "source": [
        "## Checking whether the **latitude** and **longitude** columns are **skewwed** **or normally distributed**"
      ],
      "metadata": {
        "id": "-U1467cJhXC8"
      }
    },
    {
      "cell_type": "code",
      "source": [
        "df.latitude.skew()\n"
      ],
      "metadata": {
        "colab": {
          "base_uri": "https://localhost:8080/"
        },
        "id": "OWlHlSHkgwLp",
        "outputId": "49fa4be4-a2c4-4416-d593-07249155af51"
      },
      "execution_count": null,
      "outputs": [
        {
          "output_type": "execute_result",
          "data": {
            "text/plain": [
              "-0.3917746388829118"
            ]
          },
          "metadata": {},
          "execution_count": 102
        }
      ]
    },
    {
      "cell_type": "code",
      "source": [
        "df.longitude.skew()"
      ],
      "metadata": {
        "colab": {
          "base_uri": "https://localhost:8080/"
        },
        "id": "H_yGh1DrhTNI",
        "outputId": "0c237a9d-72df-4c83-afa8-85d55119a8c9"
      },
      "execution_count": null,
      "outputs": [
        {
          "output_type": "execute_result",
          "data": {
            "text/plain": [
              "-0.6214472400315965"
            ]
          },
          "metadata": {},
          "execution_count": 103
        }
      ]
    },
    {
      "cell_type": "markdown",
      "source": [
        "## As, the **skew**() **function** is not equal to 0, so ***these 2 columns are skewwed***"
      ],
      "metadata": {
        "id": "VimwAkyHhkKK"
      }
    },
    {
      "cell_type": "markdown",
      "source": [
        "## **Area_marla** column (numeric) "
      ],
      "metadata": {
        "id": "QF24AGNammJI"
      }
    },
    {
      "cell_type": "code",
      "source": [
        "sns.distplot(df['area_marla'])"
      ],
      "metadata": {
        "id": "fu0V2Lf2n2af",
        "colab": {
          "base_uri": "https://localhost:8080/",
          "height": 355
        },
        "outputId": "0b075df0-8369-4510-a8c1-3e783d1af8bd"
      },
      "execution_count": null,
      "outputs": [
        {
          "output_type": "stream",
          "name": "stderr",
          "text": [
            "/usr/local/lib/python3.8/dist-packages/seaborn/distributions.py:2619: FutureWarning: `distplot` is a deprecated function and will be removed in a future version. Please adapt your code to use either `displot` (a figure-level function with similar flexibility) or `histplot` (an axes-level function for histograms).\n",
            "  warnings.warn(msg, FutureWarning)\n"
          ]
        },
        {
          "output_type": "execute_result",
          "data": {
            "text/plain": [
              "<matplotlib.axes._subplots.AxesSubplot at 0x7f5ecb744970>"
            ]
          },
          "metadata": {},
          "execution_count": 104
        },
        {
          "output_type": "display_data",
          "data": {
            "text/plain": [
              "<Figure size 432x288 with 1 Axes>"
            ],
            "image/png": "[encoded data removed]"
          },
          "metadata": {
            "needs_background": "light"
          }
        }
      ]
    },
    {
      "cell_type": "markdown",
      "source": [
        "## **1.2 Bivariate Analysis**"
      ],
      "metadata": {
        "id": "qqWJGC3qpUM_"
      }
    },
    {
      "cell_type": "markdown",
      "source": [
        "##We plot graph of **price** with all the other variables with price on **y-axis** to get the relevant information"
      ],
      "metadata": {
        "id": "navjkjamSg6Y"
      }
    },
    {
      "cell_type": "markdown",
      "source": [
        "### **Property_type and price column (Categorical and numerical)**"
      ],
      "metadata": {
        "id": "fVWUotxM0_E-"
      }
    },
    {
      "cell_type": "code",
      "source": [
        "plt.figure(figsize=(10, 5))\n",
        "sns.barplot(df['property_type'],df['price'])"
      ],
      "metadata": {
        "id": "a2dzv-T3pXAm",
        "colab": {
          "base_uri": "https://localhost:8080/",
          "height": 420
        },
        "outputId": "989ffa65-98b1-44ed-896e-abacd0e095b7"
      },
      "execution_count": null,
      "outputs": [
        {
          "output_type": "stream",
          "name": "stderr",
          "text": [
            "/usr/local/lib/python3.8/dist-packages/seaborn/_decorators.py:36: FutureWarning: Pass the following variables as keyword args: x, y. From version 0.12, the only valid positional argument will be `data`, and passing other arguments without an explicit keyword will result in an error or misinterpretation.\n",
            "  warnings.warn(\n"
          ]
        },
        {
          "output_type": "execute_result",
          "data": {
            "text/plain": [
              "<matplotlib.axes._subplots.AxesSubplot at 0x7f5ecb767c40>"
            ]
          },
          "metadata": {},
          "execution_count": 105
        },
        {
          "output_type": "display_data",
          "data": {
            "text/plain": [
              "<Figure size 720x360 with 1 Axes>"
            ],
            "image/png": "[encoded data removed]"
          },
          "metadata": {
            "needs_background": "light"
          }
        }
      ]
    },
    {
      "cell_type": "markdown",
      "source": [
        "### **location and price column (Categorical and numerical)**"
      ],
      "metadata": {
        "id": "be9nVeUS1FQ3"
      }
    },
    {
      "cell_type": "code",
      "source": [
        "plt.figure(figsize=(30, 20))\n",
        "sns.boxplot(df['location'],df['price'])\n"
      ],
      "metadata": {
        "colab": {
          "base_uri": "https://localhost:8080/",
          "height": 594
        },
        "id": "i72juodWySC_",
        "outputId": "3afba03c-1dfb-41e5-95c6-d46f6aaac8d3"
      },
      "execution_count": null,
      "outputs": [
        {
          "output_type": "stream",
          "name": "stderr",
          "text": [
            "/usr/local/lib/python3.8/dist-packages/seaborn/_decorators.py:36: FutureWarning: Pass the following variables as keyword args: x, y. From version 0.12, the only valid positional argument will be `data`, and passing other arguments without an explicit keyword will result in an error or misinterpretation.\n",
            "  warnings.warn(\n"
          ]
        },
        {
          "output_type": "execute_result",
          "data": {
            "text/plain": [
              "<matplotlib.axes._subplots.AxesSubplot at 0x7f5ecb68e550>"
            ]
          },
          "metadata": {},
          "execution_count": 106
        },
        {
          "output_type": "display_data",
          "data": {
            "text/plain": [
              "<Figure size 2160x1440 with 1 Axes>"
            ],
            "image/png": "[encoded data removed]"
          },
          "metadata": {
            "needs_background": "light"
          }
        }
      ]
    },
    {
      "cell_type": "markdown",
      "source": [
        "### **latitude and price column (numerical and numerical)**"
      ],
      "metadata": {
        "id": "Tv9Z6rAM1KFV"
      }
    },
    {
      "cell_type": "code",
      "source": [
        "sns.scatterplot(df['latitude'],df['price'])"
      ],
      "metadata": {
        "colab": {
          "base_uri": "https://localhost:8080/",
          "height": 365
        },
        "id": "AU3bKflRZxgw",
        "outputId": "ff981589-7b37-44bb-e35a-9744b616e79c"
      },
      "execution_count": null,
      "outputs": [
        {
          "output_type": "stream",
          "name": "stderr",
          "text": [
            "/usr/local/lib/python3.8/dist-packages/seaborn/_decorators.py:36: FutureWarning: Pass the following variables as keyword args: x, y. From version 0.12, the only valid positional argument will be `data`, and passing other arguments without an explicit keyword will result in an error or misinterpretation.\n",
            "  warnings.warn(\n"
          ]
        },
        {
          "output_type": "execute_result",
          "data": {
            "text/plain": [
              "<matplotlib.axes._subplots.AxesSubplot at 0x7f5ed0717430>"
            ]
          },
          "metadata": {},
          "execution_count": 107
        },
        {
          "output_type": "display_data",
          "data": {
            "text/plain": [
              "<Figure size 432x288 with 1 Axes>"
            ],
            "image/png": "[encoded data removed]"
          },
          "metadata": {
            "needs_background": "light"
          }
        }
      ]
    },
    {
      "cell_type": "markdown",
      "source": [
        "### **longitude and price column (numerical and numerical)**"
      ],
      "metadata": {
        "id": "heCTEwoy1T9O"
      }
    },
    {
      "cell_type": "code",
      "source": [
        "sns.scatterplot(df['longitude'],df['price'])"
      ],
      "metadata": {
        "colab": {
          "base_uri": "https://localhost:8080/",
          "height": 365
        },
        "id": "AlMFcSouaHCG",
        "outputId": "9470f01b-efdf-4269-c634-cc2f47d9f7c7"
      },
      "execution_count": null,
      "outputs": [
        {
          "output_type": "stream",
          "name": "stderr",
          "text": [
            "/usr/local/lib/python3.8/dist-packages/seaborn/_decorators.py:36: FutureWarning: Pass the following variables as keyword args: x, y. From version 0.12, the only valid positional argument will be `data`, and passing other arguments without an explicit keyword will result in an error or misinterpretation.\n",
            "  warnings.warn(\n"
          ]
        },
        {
          "output_type": "execute_result",
          "data": {
            "text/plain": [
              "<matplotlib.axes._subplots.AxesSubplot at 0x7f5eca6f8550>"
            ]
          },
          "metadata": {},
          "execution_count": 108
        },
        {
          "output_type": "display_data",
          "data": {
            "text/plain": [
              "<Figure size 432x288 with 1 Axes>"
            ],
            "image/png": "[encoded data removed]"
          },
          "metadata": {
            "needs_background": "light"
          }
        }
      ]
    },
    {
      "cell_type": "markdown",
      "source": [
        "### Whose latitude or langitude is higher, have higher price"
      ],
      "metadata": {
        "id": "0_1iD_H8wpdA"
      }
    },
    {
      "cell_type": "markdown",
      "source": [
        "## ***City and price(categorical and numercal)***"
      ],
      "metadata": {
        "id": "QtFoUlWDZnwU"
      }
    },
    {
      "cell_type": "code",
      "source": [
        "sns.barplot(df['city'],df['price'])"
      ],
      "metadata": {
        "colab": {
          "base_uri": "https://localhost:8080/",
          "height": 365
        },
        "id": "e-o-43xbbghI",
        "outputId": "0a676a10-5a46-4672-8f61-65708699b0ad"
      },
      "execution_count": null,
      "outputs": [
        {
          "output_type": "stream",
          "name": "stderr",
          "text": [
            "/usr/local/lib/python3.8/dist-packages/seaborn/_decorators.py:36: FutureWarning: Pass the following variables as keyword args: x, y. From version 0.12, the only valid positional argument will be `data`, and passing other arguments without an explicit keyword will result in an error or misinterpretation.\n",
            "  warnings.warn(\n"
          ]
        },
        {
          "output_type": "execute_result",
          "data": {
            "text/plain": [
              "<matplotlib.axes._subplots.AxesSubplot at 0x7f5ec5319ac0>"
            ]
          },
          "metadata": {},
          "execution_count": 109
        },
        {
          "output_type": "display_data",
          "data": {
            "text/plain": [
              "<Figure size 432x288 with 1 Axes>"
            ],
            "image/png": "[encoded data removed]"
          },
          "metadata": {
            "needs_background": "light"
          }
        }
      ]
    },
    {
      "cell_type": "markdown",
      "source": [
        "### Price in Karachi is higher than other cities"
      ],
      "metadata": {
        "id": "bTRejvwJw__9"
      }
    },
    {
      "cell_type": "markdown",
      "source": [
        "##***Province_name and Price (categorical and numerical)***"
      ],
      "metadata": {
        "id": "D4pKERYYZa9j"
      }
    },
    {
      "cell_type": "code",
      "source": [
        "sns.barplot(df['province_name'],df['price'])"
      ],
      "metadata": {
        "id": "1r-JnAo2cNo-",
        "colab": {
          "base_uri": "https://localhost:8080/",
          "height": 366
        },
        "outputId": "3021bb94-cbb4-4ae0-a5f3-016a152526b9"
      },
      "execution_count": null,
      "outputs": [
        {
          "output_type": "stream",
          "name": "stderr",
          "text": [
            "/usr/local/lib/python3.8/dist-packages/seaborn/_decorators.py:36: FutureWarning: Pass the following variables as keyword args: x, y. From version 0.12, the only valid positional argument will be `data`, and passing other arguments without an explicit keyword will result in an error or misinterpretation.\n",
            "  warnings.warn(\n"
          ]
        },
        {
          "output_type": "execute_result",
          "data": {
            "text/plain": [
              "<matplotlib.axes._subplots.AxesSubplot at 0x7f5ec5765880>"
            ]
          },
          "metadata": {},
          "execution_count": 110
        },
        {
          "output_type": "display_data",
          "data": {
            "text/plain": [
              "<Figure size 432x288 with 1 Axes>"
            ],
            "image/png": "[encoded data removed]"
          },
          "metadata": {
            "needs_background": "light"
          }
        }
      ]
    },
    {
      "cell_type": "markdown",
      "source": [
        "# ***1.3 Feature Scaling***"
      ],
      "metadata": {
        "id": "aHL9y_fImqmN"
      }
    },
    {
      "cell_type": "markdown",
      "source": [
        "## **Here we Encode all the column to apply Linear regression**"
      ],
      "metadata": {
        "id": "_qxAsHkxKQVW"
      }
    },
    {
      "cell_type": "code",
      "source": [
        "df['property_type'] = df['property_type'].astype('category').cat.codes\n",
        "df['city'] = df['city'].astype('category').cat.codes\n",
        "df['province_name'] = df['province_name'].astype('category').cat.codes\n",
        "df['location'] = df['location'].astype('category').cat.codes\n",
        "df['price'] = df['price'].astype('category').cat.codes\n"
      ],
      "metadata": {
        "id": "EUwH6sfCmt7t"
      },
      "execution_count": null,
      "outputs": []
    },
    {
      "cell_type": "code",
      "source": [
        "df.head()"
      ],
      "metadata": {
        "colab": {
          "base_uri": "https://localhost:8080/",
          "height": 206
        },
        "id": "kjg3Z51Dpk__",
        "outputId": "79fe8e1e-1718-4ac9-ed18-a2502ee03829"
      },
      "execution_count": null,
      "outputs": [
        {
          "output_type": "execute_result",
          "data": {
            "text/plain": [
              "   property_type  price  location  city  province_name   latitude  longitude  \\\n",
              "0              2   1549       938     3              1  31.483869  74.325686   \n",
              "1              2   1233       959     3              1  31.431593  74.179980   \n",
              "2              2    954       413     3              1  31.499348  74.416959   \n",
              "3              2   1470       557     3              1  31.522069  74.355512   \n",
              "4              2   1086       115     3              1  31.506483  74.286017   \n",
              "\n",
              "   area_marla  \n",
              "0       120.0  \n",
              "1        20.0  \n",
              "2         9.0  \n",
              "3        20.0  \n",
              "4        11.0  "
            ],
            "text/html": [
              "\n",
              "  <div id=\"df-b81549f4-b90d-41f7-bbfb-abc90ef83c8f\">\n",
              "    <div class=\"colab-df-container\">\n",
              "      <div>\n",
              "<style scoped>\n",
              "    .dataframe tbody tr th:only-of-type {\n",
              "        vertical-align: middle;\n",
              "    }\n",
              "\n",
              "    .dataframe tbody tr th {\n",
              "        vertical-align: top;\n",
              "    }\n",
              "\n",
              "    .dataframe thead th {\n",
              "        text-align: right;\n",
              "    }\n",
              "</style>\n",
              "<table border=\"1\" class=\"dataframe\">\n",
              "  <thead>\n",
              "    <tr style=\"text-align: right;\">\n",
              "      <th></th>\n",
              "      <th>property_type</th>\n",
              "      <th>price</th>\n",
              "      <th>location</th>\n",
              "      <th>city</th>\n",
              "      <th>province_name</th>\n",
              "      <th>latitude</th>\n",
              "      <th>longitude</th>\n",
              "      <th>area_marla</th>\n",
              "    </tr>\n",
              "  </thead>\n",
              "  <tbody>\n",
              "    <tr>\n",
              "      <th>0</th>\n",
              "      <td>2</td>\n",
              "      <td>1549</td>\n",
              "      <td>938</td>\n",
              "      <td>3</td>\n",
              "      <td>1</td>\n",
              "      <td>31.483869</td>\n",
              "      <td>74.325686</td>\n",
              "      <td>120.0</td>\n",
              "    </tr>\n",
              "    <tr>\n",
              "      <th>1</th>\n",
              "      <td>2</td>\n",
              "      <td>1233</td>\n",
              "      <td>959</td>\n",
              "      <td>3</td>\n",
              "      <td>1</td>\n",
              "      <td>31.431593</td>\n",
              "      <td>74.179980</td>\n",
              "      <td>20.0</td>\n",
              "    </tr>\n",
              "    <tr>\n",
              "      <th>2</th>\n",
              "      <td>2</td>\n",
              "      <td>954</td>\n",
              "      <td>413</td>\n",
              "      <td>3</td>\n",
              "      <td>1</td>\n",
              "      <td>31.499348</td>\n",
              "      <td>74.416959</td>\n",
              "      <td>9.0</td>\n",
              "    </tr>\n",
              "    <tr>\n",
              "      <th>3</th>\n",
              "      <td>2</td>\n",
              "      <td>1470</td>\n",
              "      <td>557</td>\n",
              "      <td>3</td>\n",
              "      <td>1</td>\n",
              "      <td>31.522069</td>\n",
              "      <td>74.355512</td>\n",
              "      <td>20.0</td>\n",
              "    </tr>\n",
              "    <tr>\n",
              "      <th>4</th>\n",
              "      <td>2</td>\n",
              "      <td>1086</td>\n",
              "      <td>115</td>\n",
              "      <td>3</td>\n",
              "      <td>1</td>\n",
              "      <td>31.506483</td>\n",
              "      <td>74.286017</td>\n",
              "      <td>11.0</td>\n",
              "    </tr>\n",
              "  </tbody>\n",
              "</table>\n",
              "</div>\n",
              "      <button class=\"colab-df-convert\" onclick=\"convertToInteractive('df-b81549f4-b90d-41f7-bbfb-abc90ef83c8f')\"\n",
              "              title=\"Convert this dataframe to an interactive table.\"\n",
              "              style=\"display:none;\">\n",
              "        \n",
              "  <svg xmlns=\"http://www.w3.org/2000/svg\" height=\"24px\"viewBox=\"0 0 24 24\"\n",
              "       width=\"24px\">\n",
              "    <path d=\"M0 0h24v24H0V0z\" fill=\"none\"/>\n",
              "    <path d=\"M18.56 5.44l.94 2.06.94-2.06 2.06-.94-2.06-.94-.94-2.06-.94 2.06-2.06.94zm-11 1L8.5 8.5l.94-2.06 2.06-.94-2.06-.94L8.5 2.5l-.94 2.06-2.06.94zm10 10l.94 2.06.94-2.06 2.06-.94-2.06-.94-.94-2.06-.94 2.06-2.06.94z\"/><path d=\"M17.41 7.96l-1.37-1.37c-.4-.4-.92-.59-1.43-.59-.52 0-1.04.2-1.43.59L10.3 9.45l-7.72 7.72c-.78.78-.78 2.05 0 2.83L4 21.41c.39.39.9.59 1.41.59.51 0 1.02-.2 1.41-.59l7.78-7.78 2.81-2.81c.8-.78.8-2.07 0-2.86zM5.41 20L4 18.59l7.72-7.72 1.47 1.35L5.41 20z\"/>\n",
              "  </svg>\n",
              "      </button>\n",
              "      \n",
              "  <style>\n",
              "    .colab-df-container {\n",
              "      display:flex;\n",
              "      flex-wrap:wrap;\n",
              "      gap: 12px;\n",
              "    }\n",
              "\n",
              "    .colab-df-convert {\n",
              "      background-color: #E8F0FE;\n",
              "      border: none;\n",
              "      border-radius: 50%;\n",
              "      cursor: pointer;\n",
              "      display: none;\n",
              "      fill: #1967D2;\n",
              "      height: 32px;\n",
              "      padding: 0 0 0 0;\n",
              "      width: 32px;\n",
              "    }\n",
              "\n",
              "    .colab-df-convert:hover {\n",
              "      background-color: #E2EBFA;\n",
              "      box-shadow: 0px 1px 2px rgba(60, 64, 67, 0.3), 0px 1px 3px 1px rgba(60, 64, 67, 0.15);\n",
              "      fill: #174EA6;\n",
              "    }\n",
              "\n",
              "    [theme=dark] .colab-df-convert {\n",
              "      background-color: #3B4455;\n",
              "      fill: #D2E3FC;\n",
              "    }\n",
              "\n",
              "    [theme=dark] .colab-df-convert:hover {\n",
              "      background-color: #434B5C;\n",
              "      box-shadow: 0px 1px 3px 1px rgba(0, 0, 0, 0.15);\n",
              "      filter: drop-shadow(0px 1px 2px rgba(0, 0, 0, 0.3));\n",
              "      fill: #FFFFFF;\n",
              "    }\n",
              "  </style>\n",
              "\n",
              "      <script>\n",
              "        const buttonEl =\n",
              "          document.querySelector('#df-b81549f4-b90d-41f7-bbfb-abc90ef83c8f button.colab-df-convert');\n",
              "        buttonEl.style.display =\n",
              "          google.colab.kernel.accessAllowed ? 'block' : 'none';\n",
              "\n",
              "        async function convertToInteractive(key) {\n",
              "          const element = document.querySelector('#df-b81549f4-b90d-41f7-bbfb-abc90ef83c8f');\n",
              "          const dataTable =\n",
              "            await google.colab.kernel.invokeFunction('convertToInteractive',\n",
              "                                                     [key], {});\n",
              "          if (!dataTable) return;\n",
              "\n",
              "          const docLinkHtml = 'Like what you see? Visit the ' +\n",
              "            '<a target=\"_blank\" href=https://colab.research.google.com/notebooks/data_table.ipynb>data table notebook</a>'\n",
              "            + ' to learn more about interactive tables.';\n",
              "          element.innerHTML = '';\n",
              "          dataTable['output_type'] = 'display_data';\n",
              "          await google.colab.output.renderOutput(dataTable, element);\n",
              "          const docLink = document.createElement('div');\n",
              "          docLink.innerHTML = docLinkHtml;\n",
              "          element.appendChild(docLink);\n",
              "        }\n",
              "      </script>\n",
              "    </div>\n",
              "  </div>\n",
              "  "
            ]
          },
          "metadata": {},
          "execution_count": 112
        }
      ]
    },
    {
      "cell_type": "code",
      "source": [
        "df.info()"
      ],
      "metadata": {
        "colab": {
          "base_uri": "https://localhost:8080/"
        },
        "id": "YCARwp5ju5TD",
        "outputId": "9aa53198-d8a8-4472-c7e0-71699678ae45"
      },
      "execution_count": null,
      "outputs": [
        {
          "output_type": "stream",
          "name": "stdout",
          "text": [
            "<class 'pandas.core.frame.DataFrame'>\n",
            "RangeIndex: 97675 entries, 0 to 97674\n",
            "Data columns (total 8 columns):\n",
            " #   Column         Non-Null Count  Dtype  \n",
            "---  ------         --------------  -----  \n",
            " 0   property_type  97675 non-null  int8   \n",
            " 1   price          97675 non-null  int16  \n",
            " 2   location       97675 non-null  int16  \n",
            " 3   city           97675 non-null  int8   \n",
            " 4   province_name  97675 non-null  int8   \n",
            " 5   latitude       97674 non-null  float64\n",
            " 6   longitude      97674 non-null  float64\n",
            " 7   area_marla     97674 non-null  float64\n",
            "dtypes: float64(3), int16(2), int8(3)\n",
            "memory usage: 2.9 MB\n"
          ]
        }
      ]
    },
    {
      "cell_type": "markdown",
      "source": [
        "# ***1.4 Liner Regression***"
      ],
      "metadata": {
        "id": "uGFtsIMDp9kq"
      }
    },
    {
      "cell_type": "code",
      "source": [
        "from sklearn.linear_model import LinearRegression"
      ],
      "metadata": {
        "id": "c_tUJc_gqHAa"
      },
      "execution_count": null,
      "outputs": []
    },
    {
      "cell_type": "code",
      "source": [
        "model = LinearRegression()"
      ],
      "metadata": {
        "id": "2dtUc1NdqOGo"
      },
      "execution_count": null,
      "outputs": []
    },
    {
      "cell_type": "markdown",
      "source": [
        "## **1.4.1 Data Split**"
      ],
      "metadata": {
        "id": "PRa1rMj6q6pu"
      }
    },
    {
      "cell_type": "code",
      "source": [
        "from sklearn.model_selection import train_test_split"
      ],
      "metadata": {
        "id": "-tgFSapDrTtn"
      },
      "execution_count": null,
      "outputs": []
    },
    {
      "cell_type": "code",
      "source": [
        "X = df[['property_type', 'city', 'province_name','location']]\n",
        "y = df['price']"
      ],
      "metadata": {
        "id": "05jSuuMdrov5"
      },
      "execution_count": null,
      "outputs": []
    },
    {
      "cell_type": "code",
      "source": [
        "X_train, X_test, y_train, y_test = train_test_split(X, y, test_size = 0.20, random_state = 30)"
      ],
      "metadata": {
        "id": "_5ELH5jwq34i"
      },
      "execution_count": null,
      "outputs": []
    },
    {
      "cell_type": "code",
      "source": [
        "model.fit(X_train, y_train)"
      ],
      "metadata": {
        "colab": {
          "base_uri": "https://localhost:8080/"
        },
        "id": "q0xS5psLqrUg",
        "outputId": "661428b6-1168-46b4-ef86-60aaecbcd942"
      },
      "execution_count": null,
      "outputs": [
        {
          "output_type": "execute_result",
          "data": {
            "text/plain": [
              "LinearRegression()"
            ]
          },
          "metadata": {},
          "execution_count": 119
        }
      ]
    },
    {
      "cell_type": "markdown",
      "source": [
        "## ***1.4.2 Prediction***"
      ],
      "metadata": {
        "id": "uJAIQEbQ33Nv"
      }
    },
    {
      "cell_type": "code",
      "source": [
        "y_pred = model.predict(X_test)\n"
      ],
      "metadata": {
        "id": "g_5-e4soviGj"
      },
      "execution_count": null,
      "outputs": []
    },
    {
      "cell_type": "code",
      "source": [
        "result = pd.DataFrame({'Ground Truth value' : y_test, 'Predicted Value' : y_pred})\n",
        "result"
      ],
      "metadata": {
        "colab": {
          "base_uri": "https://localhost:8080/",
          "height": 423
        },
        "id": "cGp1sglB2Op2",
        "outputId": "d25f619b-777e-4b8d-8790-6eeea4d50a17"
      },
      "execution_count": null,
      "outputs": [
        {
          "output_type": "execute_result",
          "data": {
            "text/plain": [
              "       Ground Truth value  Predicted Value\n",
              "6669                 1301       764.689268\n",
              "44428                 131       513.621865\n",
              "1476                 1046       816.238544\n",
              "80865                1200       642.662616\n",
              "46604                1116       754.418479\n",
              "...                   ...              ...\n",
              "60799                1142       622.431230\n",
              "94428                1268       764.689268\n",
              "57079                  28       907.860971\n",
              "6938                 1320       797.282389\n",
              "80048                1249       801.117867\n",
              "\n",
              "[19535 rows x 2 columns]"
            ],
            "text/html": [
              "\n",
              "  <div id=\"df-e279c812-fc7e-44d6-ba2e-4deae0312096\">\n",
              "    <div class=\"colab-df-container\">\n",
              "      <div>\n",
              "<style scoped>\n",
              "    .dataframe tbody tr th:only-of-type {\n",
              "        vertical-align: middle;\n",
              "    }\n",
              "\n",
              "    .dataframe tbody tr th {\n",
              "        vertical-align: top;\n",
              "    }\n",
              "\n",
              "    .dataframe thead th {\n",
              "        text-align: right;\n",
              "    }\n",
              "</style>\n",
              "<table border=\"1\" class=\"dataframe\">\n",
              "  <thead>\n",
              "    <tr style=\"text-align: right;\">\n",
              "      <th></th>\n",
              "      <th>Ground Truth value</th>\n",
              "      <th>Predicted Value</th>\n",
              "    </tr>\n",
              "  </thead>\n",
              "  <tbody>\n",
              "    <tr>\n",
              "      <th>6669</th>\n",
              "      <td>1301</td>\n",
              "      <td>764.689268</td>\n",
              "    </tr>\n",
              "    <tr>\n",
              "      <th>44428</th>\n",
              "      <td>131</td>\n",
              "      <td>513.621865</td>\n",
              "    </tr>\n",
              "    <tr>\n",
              "      <th>1476</th>\n",
              "      <td>1046</td>\n",
              "      <td>816.238544</td>\n",
              "    </tr>\n",
              "    <tr>\n",
              "      <th>80865</th>\n",
              "      <td>1200</td>\n",
              "      <td>642.662616</td>\n",
              "    </tr>\n",
              "    <tr>\n",
              "      <th>46604</th>\n",
              "      <td>1116</td>\n",
              "      <td>754.418479</td>\n",
              "    </tr>\n",
              "    <tr>\n",
              "      <th>...</th>\n",
              "      <td>...</td>\n",
              "      <td>...</td>\n",
              "    </tr>\n",
              "    <tr>\n",
              "      <th>60799</th>\n",
              "      <td>1142</td>\n",
              "      <td>622.431230</td>\n",
              "    </tr>\n",
              "    <tr>\n",
              "      <th>94428</th>\n",
              "      <td>1268</td>\n",
              "      <td>764.689268</td>\n",
              "    </tr>\n",
              "    <tr>\n",
              "      <th>57079</th>\n",
              "      <td>28</td>\n",
              "      <td>907.860971</td>\n",
              "    </tr>\n",
              "    <tr>\n",
              "      <th>6938</th>\n",
              "      <td>1320</td>\n",
              "      <td>797.282389</td>\n",
              "    </tr>\n",
              "    <tr>\n",
              "      <th>80048</th>\n",
              "      <td>1249</td>\n",
              "      <td>801.117867</td>\n",
              "    </tr>\n",
              "  </tbody>\n",
              "</table>\n",
              "<p>19535 rows × 2 columns</p>\n",
              "</div>\n",
              "      <button class=\"colab-df-convert\" onclick=\"convertToInteractive('df-e279c812-fc7e-44d6-ba2e-4deae0312096')\"\n",
              "              title=\"Convert this dataframe to an interactive table.\"\n",
              "              style=\"display:none;\">\n",
              "        \n",
              "  <svg xmlns=\"http://www.w3.org/2000/svg\" height=\"24px\"viewBox=\"0 0 24 24\"\n",
              "       width=\"24px\">\n",
              "    <path d=\"M0 0h24v24H0V0z\" fill=\"none\"/>\n",
              "    <path d=\"M18.56 5.44l.94 2.06.94-2.06 2.06-.94-2.06-.94-.94-2.06-.94 2.06-2.06.94zm-11 1L8.5 8.5l.94-2.06 2.06-.94-2.06-.94L8.5 2.5l-.94 2.06-2.06.94zm10 10l.94 2.06.94-2.06 2.06-.94-2.06-.94-.94-2.06-.94 2.06-2.06.94z\"/><path d=\"M17.41 7.96l-1.37-1.37c-.4-.4-.92-.59-1.43-.59-.52 0-1.04.2-1.43.59L10.3 9.45l-7.72 7.72c-.78.78-.78 2.05 0 2.83L4 21.41c.39.39.9.59 1.41.59.51 0 1.02-.2 1.41-.59l7.78-7.78 2.81-2.81c.8-.78.8-2.07 0-2.86zM5.41 20L4 18.59l7.72-7.72 1.47 1.35L5.41 20z\"/>\n",
              "  </svg>\n",
              "      </button>\n",
              "      \n",
              "  <style>\n",
              "    .colab-df-container {\n",
              "      display:flex;\n",
              "      flex-wrap:wrap;\n",
              "      gap: 12px;\n",
              "    }\n",
              "\n",
              "    .colab-df-convert {\n",
              "      background-color: #E8F0FE;\n",
              "      border: none;\n",
              "      border-radius: 50%;\n",
              "      cursor: pointer;\n",
              "      display: none;\n",
              "      fill: #1967D2;\n",
              "      height: 32px;\n",
              "      padding: 0 0 0 0;\n",
              "      width: 32px;\n",
              "    }\n",
              "\n",
              "    .colab-df-convert:hover {\n",
              "      background-color: #E2EBFA;\n",
              "      box-shadow: 0px 1px 2px rgba(60, 64, 67, 0.3), 0px 1px 3px 1px rgba(60, 64, 67, 0.15);\n",
              "      fill: #174EA6;\n",
              "    }\n",
              "\n",
              "    [theme=dark] .colab-df-convert {\n",
              "      background-color: #3B4455;\n",
              "      fill: #D2E3FC;\n",
              "    }\n",
              "\n",
              "    [theme=dark] .colab-df-convert:hover {\n",
              "      background-color: #434B5C;\n",
              "      box-shadow: 0px 1px 3px 1px rgba(0, 0, 0, 0.15);\n",
              "      filter: drop-shadow(0px 1px 2px rgba(0, 0, 0, 0.3));\n",
              "      fill: #FFFFFF;\n",
              "    }\n",
              "  </style>\n",
              "\n",
              "      <script>\n",
              "        const buttonEl =\n",
              "          document.querySelector('#df-e279c812-fc7e-44d6-ba2e-4deae0312096 button.colab-df-convert');\n",
              "        buttonEl.style.display =\n",
              "          google.colab.kernel.accessAllowed ? 'block' : 'none';\n",
              "\n",
              "        async function convertToInteractive(key) {\n",
              "          const element = document.querySelector('#df-e279c812-fc7e-44d6-ba2e-4deae0312096');\n",
              "          const dataTable =\n",
              "            await google.colab.kernel.invokeFunction('convertToInteractive',\n",
              "                                                     [key], {});\n",
              "          if (!dataTable) return;\n",
              "\n",
              "          const docLinkHtml = 'Like what you see? Visit the ' +\n",
              "            '<a target=\"_blank\" href=https://colab.research.google.com/notebooks/data_table.ipynb>data table notebook</a>'\n",
              "            + ' to learn more about interactive tables.';\n",
              "          element.innerHTML = '';\n",
              "          dataTable['output_type'] = 'display_data';\n",
              "          await google.colab.output.renderOutput(dataTable, element);\n",
              "          const docLink = document.createElement('div');\n",
              "          docLink.innerHTML = docLinkHtml;\n",
              "          element.appendChild(docLink);\n",
              "        }\n",
              "      </script>\n",
              "    </div>\n",
              "  </div>\n",
              "  "
            ]
          },
          "metadata": {},
          "execution_count": 121
        }
      ]
    },
    {
      "cell_type": "markdown",
      "source": [
        "## **1.4.3 Mean Square Error**"
      ],
      "metadata": {
        "id": "0nCL0wtRJysF"
      }
    },
    {
      "cell_type": "code",
      "source": [
        "from sklearn.metrics import mean_squared_error"
      ],
      "metadata": {
        "id": "lFSN_2DTe9QJ"
      },
      "execution_count": null,
      "outputs": []
    },
    {
      "cell_type": "code",
      "source": [
        "MSE=mean_squared_error(y_test, y_pred)\n",
        "print('Linear Regression Mean Square Error:',MSE )"
      ],
      "metadata": {
        "colab": {
          "base_uri": "https://localhost:8080/"
        },
        "id": "6wJWfHHfe_aK",
        "outputId": "e8bbfdea-24da-4a5e-c0c7-564a54d94cb0"
      },
      "execution_count": null,
      "outputs": [
        {
          "output_type": "stream",
          "name": "stdout",
          "text": [
            "Linear Regression Mean Square Error: 227335.09591706967\n"
          ]
        }
      ]
    },
    {
      "cell_type": "markdown",
      "source": [
        "##***1.4.2 r2-score***"
      ],
      "metadata": {
        "id": "-UZf3GxAeidi"
      }
    },
    {
      "cell_type": "code",
      "source": [
        "from sklearn.metrics import r2_score"
      ],
      "metadata": {
        "id": "KhPQsAHId5i4"
      },
      "execution_count": null,
      "outputs": []
    },
    {
      "cell_type": "code",
      "source": [
        "print('Linear Regression R2 Score:', r2_score(y_test, y_pred))"
      ],
      "metadata": {
        "colab": {
          "base_uri": "https://localhost:8080/"
        },
        "id": "WSQs9jLhb05W",
        "outputId": "704e0f27-8d86-4e75-f5cf-dafd0cd2f270"
      },
      "execution_count": null,
      "outputs": [
        {
          "output_type": "stream",
          "name": "stdout",
          "text": [
            "Linear Regression R2 Score: 0.1315100659309909\n"
          ]
        }
      ]
    }
  ]
}